{
 "cells": [
  {
   "cell_type": "code",
   "execution_count": 1,
   "metadata": {
    "collapsed": false
   },
   "outputs": [
    {
     "name": "stderr",
     "output_type": "stream",
     "text": [
      "Using TensorFlow backend.\n"
     ]
    }
   ],
   "source": [
    "from __future__ import print_function\n",
    "import keras\n",
    "from keras.datasets import mnist\n",
    "from keras.models import Sequential\n",
    "from keras.layers import Dense, Dropout, Flatten, Lambda\n",
    "from keras.layers import Conv2D, MaxPooling2D, Activation\n",
    "from keras import backend as K\n",
    "\n",
    "# input image dimensions\n",
    "img_rows, img_cols = 28, 28"
   ]
  },
  {
   "cell_type": "code",
   "execution_count": 2,
   "metadata": {
    "collapsed": false
   },
   "outputs": [],
   "source": [
    "from PIL import Image\n",
    "import glob\n",
    "import random\n",
    "import numpy as np\n",
    "from scipy.misc import imresize\n",
    "\n",
    "def rgb2gray(rgb):\n",
    "\n",
    "    r, g, b = rgb[:,:,0], rgb[:,:,1], rgb[:,:,2]\n",
    "    gray = 0.2989 * r + 0.5870 * g + 0.1140 * b\n",
    "\n",
    "    return gray\n",
    "\n",
    "\n",
    "xs = []\n",
    "ys = []\n",
    "\n",
    "for filename in glob.glob('gauges/*.png'): #assuming gif\n",
    "    im=Image.open(filename)\n",
    "    # pull apart filename\n",
    "    ys.append(float(filename.split('_')[1].split('.')[0])/360.0)\n",
    "    # resize image\n",
    "    #im.thumbnail((img_rows,img_cols), Image.ANTIALIAS)\n",
    "    im=np.array(im)\n",
    "    im=rgb2gray(im)\n",
    "    im=imresize(im,(img_rows,img_cols))\n",
    "\n",
    "    xs.append(im)\n",
    "    \n",
    "    \n",
    "    \n",
    "c = list(zip(xs, ys))\n",
    "random.shuffle(c)\n",
    "xs, ys = zip(*c)\n",
    "xs=np.asarray(xs)\n",
    "ys=np.asarray(ys)"
   ]
  },
  {
   "cell_type": "code",
   "execution_count": 3,
   "metadata": {
    "collapsed": false
   },
   "outputs": [
    {
     "data": {
      "image/png": "[encoded data removed]",
      "text/plain": [
       "<matplotlib.figure.Figure at 0x7f4d837d8828>"
      ]
     },
     "metadata": {},
     "output_type": "display_data"
    }
   ],
   "source": [
    "import matplotlib.pyplot as plt\n",
    "%matplotlib inline\n",
    "plt.imshow(xs[0],cmap='gray')\n",
    "plt.show()"
   ]
  },
  {
   "cell_type": "code",
   "execution_count": 4,
   "metadata": {
    "collapsed": true
   },
   "outputs": [],
   "source": [
    "from sklearn.model_selection import train_test_split\n",
    "x_train, x_test, y_train, y_test = train_test_split(xs, ys, test_size=0.1, random_state=42)"
   ]
  },
  {
   "cell_type": "code",
   "execution_count": 5,
   "metadata": {
    "collapsed": false
   },
   "outputs": [
    {
     "name": "stdout",
     "output_type": "stream",
     "text": [
      "(324, 28, 28)\n",
      "x_train shape: (324, 28, 28, 1)\n",
      "324 train samples\n",
      "36 test samples\n"
     ]
    }
   ],
   "source": [
    "\n",
    "\n",
    "print(x_train.shape)\n",
    "\n",
    "#if K.image_data_format() == 'channels_first':\n",
    "#x_train = x_train.reshape(x_train.shape[0], 1, img_rows, img_cols)\n",
    "#x_test = x_test.reshape(x_test.shape[0], 1, img_rows, img_cols)\n",
    "#input_shape = (1, img_rows, img_cols)\n",
    "#else:\n",
    "x_train = x_train.reshape(x_train.shape[0], img_rows, img_cols, 1)\n",
    "x_test = x_test.reshape(x_test.shape[0], img_rows, img_cols, 1)\n",
    "input_shape = (img_rows, img_cols, 1)\n",
    "\n",
    "x_train = x_train.astype('float32')\n",
    "x_test = x_test.astype('float32')\n",
    "\n",
    "print('x_train shape:', x_train.shape)\n",
    "print(x_train.shape[0], 'train samples')\n",
    "print(x_test.shape[0], 'test samples')"
   ]
  },
  {
   "cell_type": "code",
   "execution_count": 8,
   "metadata": {
    "collapsed": false
   },
   "outputs": [
    {
     "name": "stdout",
     "output_type": "stream",
     "text": [
      "Train on 324 samples, validate on 36 samples\n",
      "Epoch 1/34\n",
      "324/324 [==============================] - 0s - loss: 0.2262 - val_loss: 0.2348\n",
      "Epoch 2/34\n",
      "324/324 [==============================] - 0s - loss: 0.1163 - val_loss: 0.0477\n",
      "Epoch 3/34\n",
      "324/324 [==============================] - 0s - loss: 0.0923 - val_loss: 0.0361\n",
      "Epoch 4/34\n",
      "324/324 [==============================] - 0s - loss: 0.0744 - val_loss: 0.0533\n",
      "Epoch 5/34\n",
      "324/324 [==============================] - 0s - loss: 0.0552 - val_loss: 0.0080\n",
      "Epoch 6/34\n",
      "324/324 [==============================] - 0s - loss: 0.0358 - val_loss: 0.0158\n",
      "Epoch 7/34\n",
      "324/324 [==============================] - 0s - loss: 0.0228 - val_loss: 0.0419\n",
      "Epoch 8/34\n",
      "324/324 [==============================] - 0s - loss: 0.0189 - val_loss: 0.0446\n",
      "Epoch 9/34\n",
      "324/324 [==============================] - 0s - loss: 0.0156 - val_loss: 0.0545\n",
      "Epoch 10/34\n",
      "324/324 [==============================] - 0s - loss: 0.0160 - val_loss: 0.0385\n",
      "Epoch 11/34\n",
      "324/324 [==============================] - 0s - loss: 0.0140 - val_loss: 0.0325\n",
      "Epoch 12/34\n",
      "324/324 [==============================] - 0s - loss: 0.0132 - val_loss: 0.0523\n",
      "Epoch 13/34\n",
      "324/324 [==============================] - 0s - loss: 0.0112 - val_loss: 0.0309\n",
      "Epoch 14/34\n",
      "324/324 [==============================] - 0s - loss: 0.0103 - val_loss: 0.0285\n",
      "Epoch 15/34\n",
      "324/324 [==============================] - 0s - loss: 0.0113 - val_loss: 0.0334\n",
      "Epoch 16/34\n",
      "324/324 [==============================] - 0s - loss: 0.0092 - val_loss: 0.0238\n",
      "Epoch 17/34\n",
      "324/324 [==============================] - 0s - loss: 0.0097 - val_loss: 0.0221\n",
      "Epoch 18/34\n",
      "324/324 [==============================] - 0s - loss: 0.0089 - val_loss: 0.0244\n",
      "Epoch 19/34\n",
      "324/324 [==============================] - 0s - loss: 0.0088 - val_loss: 0.0258\n",
      "Epoch 20/34\n",
      "324/324 [==============================] - 0s - loss: 0.0099 - val_loss: 0.0235\n",
      "Epoch 21/34\n",
      "324/324 [==============================] - 0s - loss: 0.0088 - val_loss: 0.0259\n",
      "Epoch 22/34\n",
      "324/324 [==============================] - 0s - loss: 0.0094 - val_loss: 0.0309\n",
      "Epoch 23/34\n",
      "324/324 [==============================] - 0s - loss: 0.0071 - val_loss: 0.0327\n",
      "Epoch 24/34\n",
      "324/324 [==============================] - 0s - loss: 0.0091 - val_loss: 0.0255\n",
      "Epoch 25/34\n",
      "324/324 [==============================] - 0s - loss: 0.0089 - val_loss: 0.0277\n",
      "Epoch 26/34\n",
      "324/324 [==============================] - 0s - loss: 0.0084 - val_loss: 0.0328\n",
      "Epoch 27/34\n",
      "324/324 [==============================] - 0s - loss: 0.0089 - val_loss: 0.0337\n",
      "Epoch 28/34\n",
      "324/324 [==============================] - 0s - loss: 0.0102 - val_loss: 0.0273\n",
      "Epoch 29/34\n",
      "324/324 [==============================] - 0s - loss: 0.0075 - val_loss: 0.0235\n",
      "Epoch 30/34\n",
      "324/324 [==============================] - 0s - loss: 0.0077 - val_loss: 0.0226\n",
      "Epoch 31/34\n",
      "324/324 [==============================] - 0s - loss: 0.0066 - val_loss: 0.0265\n",
      "Epoch 32/34\n",
      "324/324 [==============================] - 0s - loss: 0.0067 - val_loss: 0.0224\n",
      "Epoch 33/34\n",
      "324/324 [==============================] - 0s - loss: 0.0084 - val_loss: 0.0203\n",
      "Epoch 34/34\n",
      "324/324 [==============================] - 0s - loss: 0.0077 - val_loss: 0.0290\n"
     ]
    },
    {
     "data": {
      "text/plain": [
       "<keras.callbacks.History at 0x7f4d3ef79da0>"
      ]
     },
     "execution_count": 8,
     "metadata": {},
     "output_type": "execute_result"
    }
   ],
   "source": [
    "batch_size = 128\n",
    "epochs = 34\n",
    "\n",
    "model = Sequential()\n",
    "model.add(Lambda(lambda x: x/127.5 - 1., input_shape=input_shape, output_shape=input_shape))\n",
    "model.add(Conv2D(32, 3, 3, activation='relu'))\n",
    "model.add(Conv2D(64, 3, 3, activation='relu'))\n",
    "model.add(MaxPooling2D(pool_size=(2, 2)))\n",
    "model.add(Dropout(0.25))\n",
    "model.add(Flatten())\n",
    "model.add(Dense(128, activation='relu'))\n",
    "model.add(Dropout(0.5))\n",
    "model.add(Activation('tanh'))\n",
    "model.add(Dense(1, init = 'normal'))\n",
    "\n",
    "#model.add(Dense(1, activation='softmax'))\n",
    "\n",
    "model.compile(loss = 'mse', optimizer = 'Adam')\n",
    "\n",
    "model.fit(x_train, y_train,\n",
    "          batch_size=batch_size,\n",
    "          nb_epoch=epochs,\n",
    "          verbose=1,\n",
    "          validation_data=(x_test, y_test))\n"
   ]
  },
  {
   "cell_type": "code",
   "execution_count": 9,
   "metadata": {
    "collapsed": false
   },
   "outputs": [
    {
     "name": "stdout",
     "output_type": "stream",
     "text": [
      "====\n",
      "68.5360997915268\n",
      "57.0\n",
      "====\n",
      "103.56791138648987\n",
      "88.0\n",
      "====\n",
      "128.4508502483368\n",
      "108.0\n",
      "====\n",
      "280.86835384368896\n",
      "218.0\n",
      "====\n",
      "42.49604791402817\n",
      "36.0\n",
      "====\n",
      "255.54701328277588\n",
      "204.0\n",
      "====\n",
      "427.57673263549805\n",
      "304.0\n",
      "====\n",
      "223.70200395584106\n",
      "183.0\n",
      "====\n",
      "321.0753107070923\n",
      "248.0\n",
      "====\n",
      "154.88483548164368\n",
      "130.0\n",
      "====\n",
      "88.86513590812683\n",
      "74.0\n",
      "====\n",
      "237.3833727836609\n",
      "196.0\n",
      "====\n",
      "34.51724320650101\n",
      "29.0\n",
      "====\n",
      "234.6128010749817\n",
      "188.0\n",
      "====\n",
      "121.97423815727234\n",
      "103.0\n",
      "====\n",
      "197.89524793624878\n",
      "161.0\n",
      "====\n",
      "258.241024017334\n",
      "206.0\n",
      "====\n",
      "10.025552809238434\n",
      "15.0\n",
      "====\n",
      "299.3795442581177\n",
      "236.0\n",
      "====\n",
      "25.260784327983856\n",
      "24.0\n"
     ]
    }
   ],
   "source": [
    "for index in range(20):\n",
    "    angle = float(model.predict(x_test[index][None, :, :, :], batch_size=1))\n",
    "    print('====')\n",
    "    print(angle*360)\n",
    "    print(y_test[index]*360)"
   ]
  }
 ],
 "metadata": {
  "anaconda-cloud": {},
  "kernelspec": {
   "display_name": "Python [conda env:tf1]",
   "language": "python",
   "name": "conda-env-tf1-py"
  },
  "language_info": {
   "codemirror_mode": {
    "name": "ipython",
    "version": 3
   },
   "file_extension": ".py",
   "mimetype": "text/x-python",
   "name": "python",
   "nbconvert_exporter": "python",
   "pygments_lexer": "ipython3",
   "version": "3.5.2"
  }
 },
 "nbformat": 4,
 "nbformat_minor": 1
}
