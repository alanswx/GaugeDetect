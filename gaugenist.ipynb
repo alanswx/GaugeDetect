{
 "cells": [
  {
   "cell_type": "code",
   "execution_count": 1,
   "metadata": {
    "collapsed": false
   },
   "outputs": [
    {
     "name": "stderr",
     "output_type": "stream",
     "text": [
      "Using TensorFlow backend.\n"
     ]
    }
   ],
   "source": [
    "from __future__ import print_function\n",
    "import keras\n",
    "from keras.datasets import mnist\n",
    "from keras.models import Sequential\n",
    "from keras.layers import Dense, Dropout, Flatten\n",
    "from keras.layers import Conv2D, MaxPooling2D, Activation\n",
    "from keras import backend as K\n",
    "\n",
    "# input image dimensions\n",
    "img_rows, img_cols = 28, 28"
   ]
  },
  {
   "cell_type": "code",
   "execution_count": 2,
   "metadata": {
    "collapsed": false
   },
   "outputs": [],
   "source": [
    "from PIL import Image\n",
    "import glob\n",
    "import random\n",
    "import numpy as np\n",
    "from scipy.misc import imresize\n",
    "\n",
    "def rgb2gray(rgb):\n",
    "\n",
    "    r, g, b = rgb[:,:,0], rgb[:,:,1], rgb[:,:,2]\n",
    "    gray = 0.2989 * r + 0.5870 * g + 0.1140 * b\n",
    "\n",
    "    return gray\n",
    "\n",
    "\n",
    "xs = []\n",
    "ys = []\n",
    "\n",
    "for filename in glob.glob('gauges/*.png'): #assuming gif\n",
    "    im=Image.open(filename)\n",
    "    # pull apart filename\n",
    "    ys.append(float(filename.split('_')[1].split('.')[0])/360.0)\n",
    "    # resize image\n",
    "    #im.thumbnail((img_rows,img_cols), Image.ANTIALIAS)\n",
    "    im=np.array(im)\n",
    "    im=rgb2gray(im)\n",
    "    im=imresize(im,(img_rows,img_cols))\n",
    "\n",
    "    xs.append(im)\n",
    "    \n",
    "    \n",
    "    \n",
    "c = list(zip(xs, ys))\n",
    "random.shuffle(c)\n",
    "xs, ys = zip(*c)\n",
    "xs=np.asarray(xs)\n",
    "ys=np.asarray(ys)"
   ]
  },
  {
   "cell_type": "code",
   "execution_count": 3,
   "metadata": {
    "collapsed": false
   },
   "outputs": [
    {
     "data": {
      "image/png": "[encoded data removed]",
      "text/plain": [
       "<matplotlib.figure.Figure at 0x7f532a14e6d8>"
      ]
     },
     "metadata": {},
     "output_type": "display_data"
    }
   ],
   "source": [
    "import matplotlib.pyplot as plt\n",
    "%matplotlib inline\n",
    "plt.imshow(xs[0],cmap='gray')\n",
    "plt.show()"
   ]
  },
  {
   "cell_type": "code",
   "execution_count": 4,
   "metadata": {
    "collapsed": true
   },
   "outputs": [],
   "source": [
    "from sklearn.model_selection import train_test_split\n",
    "x_train, x_test, y_train, y_test = train_test_split(xs, ys, test_size=0.1, random_state=42)"
   ]
  },
  {
   "cell_type": "code",
   "execution_count": 5,
   "metadata": {
    "collapsed": false
   },
   "outputs": [
    {
     "name": "stdout",
     "output_type": "stream",
     "text": [
      "(324, 28, 28)\n",
      "x_train shape: (324, 28, 28, 1)\n",
      "324 train samples\n",
      "36 test samples\n",
      "Train on 324 samples, validate on 36 samples\n",
      "Epoch 1/12\n",
      "324/324 [==============================] - 0s - loss: 0.2657 - val_loss: 0.1927\n",
      "Epoch 2/12\n",
      "324/324 [==============================] - 0s - loss: 0.0997 - val_loss: 0.0901\n",
      "Epoch 3/12\n",
      "324/324 [==============================] - 0s - loss: 0.0991 - val_loss: 0.0817\n",
      "Epoch 4/12\n",
      "324/324 [==============================] - 0s - loss: 0.1020 - val_loss: 0.0995\n",
      "Epoch 5/12\n",
      "324/324 [==============================] - 0s - loss: 0.0930 - val_loss: 0.0953\n",
      "Epoch 6/12\n",
      "324/324 [==============================] - 0s - loss: 0.0819 - val_loss: 0.0796\n",
      "Epoch 7/12\n",
      "324/324 [==============================] - 0s - loss: 0.0870 - val_loss: 0.0649\n",
      "Epoch 8/12\n",
      "324/324 [==============================] - 0s - loss: 0.0767 - val_loss: 0.0560\n",
      "Epoch 9/12\n",
      "324/324 [==============================] - 0s - loss: 0.0728 - val_loss: 0.0496\n",
      "Epoch 10/12\n",
      "324/324 [==============================] - 0s - loss: 0.0629 - val_loss: 0.0262\n",
      "Epoch 11/12\n",
      "324/324 [==============================] - 0s - loss: 0.0475 - val_loss: 0.0334\n",
      "Epoch 12/12\n",
      "324/324 [==============================] - 0s - loss: 0.0439 - val_loss: 0.0185\n"
     ]
    },
    {
     "data": {
      "text/plain": [
       "<keras.callbacks.History at 0x7f53136c5908>"
      ]
     },
     "execution_count": 5,
     "metadata": {},
     "output_type": "execute_result"
    }
   ],
   "source": [
    "batch_size = 128\n",
    "num_classes = 10\n",
    "epochs = 12\n",
    "\n",
    "print(x_train.shape)\n",
    "\n",
    "#if K.image_data_format() == 'channels_first':\n",
    "#x_train = x_train.reshape(x_train.shape[0], 1, img_rows, img_cols)\n",
    "#x_test = x_test.reshape(x_test.shape[0], 1, img_rows, img_cols)\n",
    "#input_shape = (1, img_rows, img_cols)\n",
    "#else:\n",
    "x_train = x_train.reshape(x_train.shape[0], img_rows, img_cols, 1)\n",
    "x_test = x_test.reshape(x_test.shape[0], img_rows, img_cols, 1)\n",
    "input_shape = (img_rows, img_cols, 1)\n",
    "\n",
    "x_train = x_train.astype('float32')\n",
    "x_test = x_test.astype('float32')\n",
    "x_train /= 255\n",
    "x_test /= 255\n",
    "print('x_train shape:', x_train.shape)\n",
    "print(x_train.shape[0], 'train samples')\n",
    "print(x_test.shape[0], 'test samples')\n",
    "\n",
    "model = Sequential()\n",
    "model.add(Conv2D(32, 3, 3,\n",
    "                 activation='relu',\n",
    "                 input_shape=input_shape))\n",
    "model.add(Conv2D(64, 3, 3, activation='relu'))\n",
    "model.add(MaxPooling2D(pool_size=(2, 2)))\n",
    "model.add(Dropout(0.25))\n",
    "model.add(Flatten())\n",
    "model.add(Dense(128, activation='relu'))\n",
    "model.add(Dropout(0.5))\n",
    "model.add(Activation('tanh'))\n",
    "model.add(Dense(1, init = 'normal'))\n",
    "\n",
    "#model.add(Dense(1, activation='softmax'))\n",
    "\n",
    "model.compile(loss = 'mse', optimizer = 'Adam')\n",
    "\n",
    "model.fit(x_train, y_train,\n",
    "          batch_size=batch_size,\n",
    "          nb_epoch=epochs,\n",
    "          verbose=1,\n",
    "          validation_data=(x_test, y_test))\n"
   ]
  },
  {
   "cell_type": "code",
   "execution_count": 15,
   "metadata": {
    "collapsed": false
   },
   "outputs": [
    {
     "name": "stdout",
     "output_type": "stream",
     "text": [
      "====\n",
      "278.81019830703735\n",
      "222.0\n",
      "====\n",
      "72.59457170963287\n",
      "28.0\n",
      "====\n",
      "293.4763026237488\n",
      "238.0\n",
      "====\n",
      "80.86284577846527\n",
      "105.0\n",
      "====\n",
      "305.1907753944397\n",
      "289.0\n",
      "====\n",
      "229.7216534614563\n",
      "191.0\n",
      "====\n",
      "294.69889640808105\n",
      "239.0\n",
      "====\n",
      "286.9644784927368\n",
      "313.0\n",
      "====\n",
      "83.86799812316895\n",
      "108.0\n",
      "====\n",
      "180.6688141822815\n",
      "160.0\n",
      "====\n",
      "298.4285831451416\n",
      "299.0\n",
      "====\n",
      "56.4379745721817\n",
      "37.0\n",
      "====\n",
      "74.56301808357239\n",
      "96.0\n",
      "====\n",
      "289.40764904022217\n",
      "333.0\n",
      "====\n",
      "252.87943840026855\n",
      "205.0\n",
      "====\n",
      "68.18946182727814\n",
      "31.0\n",
      "====\n",
      "61.64753794670105\n",
      "34.0\n",
      "====\n",
      "95.40676474571228\n",
      "115.0\n",
      "====\n",
      "123.53628158569336\n",
      "131.0\n",
      "====\n",
      "47.54541635513306\n",
      "59.0\n"
     ]
    }
   ],
   "source": [
    "for index in range(20):\n",
    "    angle = float(model.predict(x_test[index][None, :, :, :], batch_size=1))\n",
    "    print('====')\n",
    "    print(angle*360)\n",
    "    print(y_test[index]*360)"
   ]
  }
 ],
 "metadata": {
  "anaconda-cloud": {},
  "kernelspec": {
   "display_name": "Python [conda env:tf1]",
   "language": "python",
   "name": "conda-env-tf1-py"
  },
  "language_info": {
   "codemirror_mode": {
    "name": "ipython",
    "version": 3
   },
   "file_extension": ".py",
   "mimetype": "text/x-python",
   "name": "python",
   "nbconvert_exporter": "python",
   "pygments_lexer": "ipython3",
   "version": "3.5.2"
  }
 },
 "nbformat": 4,
 "nbformat_minor": 1
}
